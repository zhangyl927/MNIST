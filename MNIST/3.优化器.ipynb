{
 "cells": [
  {
   "cell_type": "code",
   "execution_count": 1,
   "metadata": {},
   "outputs": [
    {
     "name": "stdout",
     "output_type": "stream",
     "text": [
      "Extracting MNIST_data/train-images-idx3-ubyte.gz\n",
      "Extracting MNIST_data/train-labels-idx1-ubyte.gz\n",
      "Extracting MNIST_data/t10k-images-idx3-ubyte.gz\n",
      "Extracting MNIST_data/t10k-labels-idx1-ubyte.gz\n",
      "Iter0, Test Accuracy0.7287,Train Accuracy0.7233091\n",
      "Iter1, Test Accuracy0.7553,Train Accuracy0.7534182\n",
      "Iter2, Test Accuracy0.7578,Train Accuracy0.7561091\n",
      "Iter3, Test Accuracy0.7657,Train Accuracy0.7647455\n",
      "Iter4, Test Accuracy0.7678,Train Accuracy0.7665091\n",
      "Iter5, Test Accuracy0.7672,Train Accuracy0.76594543\n",
      "Iter6, Test Accuracy0.7644,Train Accuracy0.7624182\n",
      "Iter7, Test Accuracy0.7637,Train Accuracy0.7634909\n",
      "Iter8, Test Accuracy0.7677,Train Accuracy0.7694727\n",
      "Iter9, Test Accuracy0.7717,Train Accuracy0.77156365\n",
      "Iter10, Test Accuracy0.7749,Train Accuracy0.7724909\n",
      "Iter11, Test Accuracy0.7661,Train Accuracy0.7663636\n",
      "Iter12, Test Accuracy0.7664,Train Accuracy0.7665455\n",
      "Iter13, Test Accuracy0.7634,Train Accuracy0.7618\n",
      "Iter14, Test Accuracy0.7728,Train Accuracy0.7747818\n",
      "Iter15, Test Accuracy0.7693,Train Accuracy0.76852727\n",
      "Iter16, Test Accuracy0.7717,Train Accuracy0.7717818\n",
      "Iter17, Test Accuracy0.7691,Train Accuracy0.7706182\n",
      "Iter18, Test Accuracy0.7744,Train Accuracy0.7741455\n",
      "Iter19, Test Accuracy0.7728,Train Accuracy0.7704909\n"
     ]
    }
   ],
   "source": [
    "import tensorflow as tf\n",
    "from tensorflow.examples.tutorials.mnist import input_data\n",
    "mnist = input_data.read_data_sets(\"MNIST_data/\", one_hot=True)\n",
    "\n",
    "# 每个批次的大小\n",
    "batch_size = 100\n",
    "# 计算一共有多少个批次\n",
    "n_batch = mnist.train.num_examples // batch_size\n",
    "\n",
    "# 定义两个placeholder\n",
    "x = tf.placeholder(\"float\", [None, 784])\n",
    "y = tf.placeholder(\"float\", [None, 10])\n",
    "keep_prob = tf.placeholder(\"float\")\n",
    "\n",
    "# 建立一个简单的神经网络\n",
    "W1 = tf.Variable(tf.truncated_normal([784, 1000], stddev=0.1))\n",
    "b1 = tf.Variable(tf.zeros([1000])+0.1)\n",
    "L1 = tf.nn.tanh(tf.matmul(x, W1)+b1)\n",
    "L1_drop = tf.nn.dropout(L1, keep_prob)\n",
    "\n",
    "W2 = tf.Variable(tf.truncated_normal([1000, 10], stddev=0.1))\n",
    "b2 = tf.Variable(tf.zeros([10])+0.1)\n",
    "prediction = tf.nn.softmax(tf.matmul(L1_drop, W2) + b2)\n",
    "\n",
    "# 代价函数\n",
    "# （1）使用平方的方法\n",
    "# loss = tf.reduce_mean(tf.square(y - prediction))\n",
    "# （2）使用交叉熵的方法改进 #########################################################\n",
    "loss = tf.reduce_mean(tf.nn.softmax_cross_entropy_with_logits(labels=y, logits=prediction))\n",
    "# 使用**优化器方法\n",
    "#train_step = tf.train.GradientDescentOptimizer(0.2).minimize(loss)\n",
    "train_step = tf.train.AdamOptimizer(1e-2).minimize(loss)\n",
    "\n",
    "# 初始化变量\n",
    "init = tf.global_variables_initializer()\n",
    "\n",
    "# 结果存放在一个布尔型列表中\n",
    "correct_prediction = tf.equal(tf.argmax(prediction, 1), tf.argmax(y, 1))  # argmax 返回一维变量中最大值所在位置\n",
    "# 求准确率\n",
    "accuracy = tf.reduce_mean(tf.cast(correct_prediction, \"float\"))\n",
    "\n",
    "with tf.Session() as sess:\n",
    "    sess.run(init)\n",
    "    for epoch in range(20):\n",
    "        for batch in range(n_batch):\n",
    "            batch_xs, batch_ys = mnist.train.next_batch(batch_size)\n",
    "            sess.run(train_step, feed_dict={x: batch_xs, y: batch_ys, keep_prob: 0.7})\n",
    "\n",
    "        test_acc = sess.run(accuracy, feed_dict={x: mnist.test.images, y: mnist.test.labels, keep_prob: 1.0})\n",
    "        train_acc = sess.run(accuracy, feed_dict={x: mnist.train.images, y: mnist.train.labels, keep_prob: 1.0})\n",
    "        print(\"Iter\" + str(epoch) + \", Test Accuracy\" + str(test_acc) + \",Train Accuracy\" + str(train_acc))"
   ]
  },
  {
   "cell_type": "markdown",
   "metadata": {},
   "source": [
    "这个优化器有点挫，比梯度下降差挺多"
   ]
  }
 ],
 "metadata": {
  "kernelspec": {
   "display_name": "Python [conda env:anaconda3]",
   "language": "python",
   "name": "conda-env-anaconda3-py"
  },
  "language_info": {
   "codemirror_mode": {
    "name": "ipython",
    "version": 3
   },
   "file_extension": ".py",
   "mimetype": "text/x-python",
   "name": "python",
   "nbconvert_exporter": "python",
   "pygments_lexer": "ipython3",
   "version": "3.6.5"
  }
 },
 "nbformat": 4,
 "nbformat_minor": 2
}
