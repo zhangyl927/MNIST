{
 "cells": [
  {
   "cell_type": "code",
   "execution_count": 5,
   "metadata": {
    "scrolled": true
   },
   "outputs": [],
   "source": [
    "import tensorflow as tf\n",
    "from tensorflow.examples.tutorials.mnist import input_data"
   ]
  },
  {
   "cell_type": "code",
   "execution_count": 22,
   "metadata": {},
   "outputs": [
    {
     "name": "stdout",
     "output_type": "stream",
     "text": [
      "Extracting MNIST_data/train-images-idx3-ubyte.gz\n",
      "Extracting MNIST_data/train-labels-idx1-ubyte.gz\n",
      "Extracting MNIST_data/t10k-images-idx3-ubyte.gz\n",
      "Extracting MNIST_data/t10k-labels-idx1-ubyte.gz\n",
      "Iter0, The Test Accuracy = 0.9175, The Train Accuracy = 0.9127455\n",
      "Iter1, The Test Accuracy = 0.9349, The Train Accuracy = 0.9295818\n",
      "Iter2, The Test Accuracy = 0.94, The Train Accuracy = 0.93774545\n",
      "Iter3, The Test Accuracy = 0.9439, The Train Accuracy = 0.9448\n",
      "Iter4, The Test Accuracy = 0.9478, The Train Accuracy = 0.9491636\n",
      "Iter5, The Test Accuracy = 0.9496, The Train Accuracy = 0.95245457\n",
      "Iter6, The Test Accuracy = 0.9538, The Train Accuracy = 0.9551273\n",
      "Iter7, The Test Accuracy = 0.9562, The Train Accuracy = 0.95836365\n",
      "Iter8, The Test Accuracy = 0.9562, The Train Accuracy = 0.9606909\n",
      "Iter9, The Test Accuracy = 0.9579, The Train Accuracy = 0.9628909\n"
     ]
    }
   ],
   "source": [
    "mnist = input_data.read_data_sets(\"MNIST_data/\", one_hot = True)\n",
    "\n",
    "batch_size = 100\n",
    "n_batch = mnist.train.num_examples // batch_size\n",
    "\n",
    "x = tf.placeholder(\"float\", [None, 784])\n",
    "y = tf.placeholder(\"float\", [None, 10])\n",
    "keep_prob = tf.placeholder(\"float\")\n",
    "\n",
    "# 构造神经层\n",
    "W1 = tf.Variable(tf.truncated_normal([784,2000], stddev = 0.1))\n",
    "b1 = tf.Variable(tf.zeros([2000]) + 0.1)\n",
    "L1 = tf.nn.tanh(tf.matmul(x, W1) + b1)\n",
    "L1_drop = tf.nn.dropout(L1, keep_prob)\n",
    "\n",
    "W2 = tf.Variable(tf.truncated_normal([2000,500], stddev = 0.1))\n",
    "b2 = tf.Variable(tf.zeros([500]) + 0.1)\n",
    "L2 = tf.nn.tanh(tf.matmul(L1_drop, W2) + b2)\n",
    "L2_drop = tf.nn.dropout(L2, keep_prob)\n",
    "\n",
    "W3 = tf.Variable(tf.truncated_normal([500, 10], stddev = 0.1))\n",
    "b3 = tf.Variable(tf.zeros([10]) + 0.1)\n",
    "prediction = tf.nn.softmax(tf.matmul(L2_drop, W3) + b3)\n",
    "\n",
    "loss = tf.reduce_mean(tf.nn.softmax_cross_entropy_with_logits(labels=y, logits=prediction))\n",
    "train_step = tf.train.GradientDescentOptimizer(0.2).minimize(loss)\n",
    "\n",
    "init = tf.global_variables_initializer()\n",
    "\n",
    "correct_prediction = tf.equal(tf.argmax(prediction,1), tf.argmax(y,1))\n",
    "accuracy = tf.reduce_mean(tf.cast(correct_prediction, \"float\"))\n",
    "\n",
    "with tf.Session() as sess:\n",
    "    sess.run(init)\n",
    "    for epoch in range(10):\n",
    "        for each in range(n_batch):\n",
    "            batch_xs, batch_ys = mnist.train.next_batch(batch_size)\n",
    "            sess.run(train_step, feed_dict = {x: batch_xs, y: batch_ys, keep_prob: 0.7})\n",
    "            \n",
    "        test_acc = sess.run(accuracy, feed_dict = {x: mnist.test.images, y: mnist.test.labels, keep_prob: 1.0})\n",
    "        train_acc = sess.run(accuracy, feed_dict = {x: mnist.train.images, y: mnist.train.labels, keep_prob: 1.0})\n",
    "        print(\"Iter\" + str(epoch) + \", The Test Accuracy = \" + str(test_acc) + \", The Train Accuracy = \" + str(train_acc))"
   ]
  },
  {
   "cell_type": "code",
   "execution_count": null,
   "metadata": {},
   "outputs": [],
   "source": []
  }
 ],
 "metadata": {
  "kernelspec": {
   "display_name": "Python [conda env:anaconda3]",
   "language": "python",
   "name": "conda-env-anaconda3-py"
  },
  "language_info": {
   "codemirror_mode": {
    "name": "ipython",
    "version": 3
   },
   "file_extension": ".py",
   "mimetype": "text/x-python",
   "name": "python",
   "nbconvert_exporter": "python",
   "pygments_lexer": "ipython3",
   "version": "3.6.5"
  }
 },
 "nbformat": 4,
 "nbformat_minor": 2
}
