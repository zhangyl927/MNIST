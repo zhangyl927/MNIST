{
 "cells": [
  {
   "cell_type": "code",
   "execution_count": 1,
   "metadata": {
    "scrolled": true
   },
   "outputs": [],
   "source": [
    "import tensorflow as tf\n",
    "from tensorflow.examples.tutorials.mnist import input_data"
   ]
  },
  {
   "cell_type": "code",
   "execution_count": 5,
   "metadata": {},
   "outputs": [
    {
     "name": "stdout",
     "output_type": "stream",
     "text": [
      "Extracting MNIST_data/train-images-idx3-ubyte.gz\n",
      "Extracting MNIST_data/train-labels-idx1-ubyte.gz\n",
      "Extracting MNIST_data/t10k-images-idx3-ubyte.gz\n",
      "Extracting MNIST_data/t10k-labels-idx1-ubyte.gz\n",
      "Iter0, Test Accuracy = 0.9372, Train Accuracy = 0.93514544, Learning rate = 0.001\n",
      "Iter1, Test Accuracy = 0.9402, Train Accuracy = 0.9464545, Learning rate = 0.00095\n",
      "Iter2, Test Accuracy = 0.9536, Train Accuracy = 0.95836365, Learning rate = 0.0009025\n",
      "Iter3, Test Accuracy = 0.9568, Train Accuracy = 0.96354544, Learning rate = 0.000857375\n",
      "Iter4, Test Accuracy = 0.9601, Train Accuracy = 0.9673091, Learning rate = 0.00081450626\n",
      "Iter5, Test Accuracy = 0.9668, Train Accuracy = 0.97394544, Learning rate = 0.0007737809\n",
      "Iter6, Test Accuracy = 0.9686, Train Accuracy = 0.9768909, Learning rate = 0.0007350919\n",
      "Iter7, Test Accuracy = 0.9679, Train Accuracy = 0.97852725, Learning rate = 0.0006983373\n",
      "Iter8, Test Accuracy = 0.9697, Train Accuracy = 0.9802182, Learning rate = 0.0006634204\n",
      "Iter9, Test Accuracy = 0.9697, Train Accuracy = 0.9809091, Learning rate = 0.0006302494\n",
      "Iter10, Test Accuracy = 0.971, Train Accuracy = 0.98294544, Learning rate = 0.0005987369\n",
      "Iter11, Test Accuracy = 0.9731, Train Accuracy = 0.9839454, Learning rate = 0.0005688001\n",
      "Iter12, Test Accuracy = 0.9737, Train Accuracy = 0.9847091, Learning rate = 0.0005403601\n",
      "Iter13, Test Accuracy = 0.9739, Train Accuracy = 0.9846727, Learning rate = 0.0005133421\n",
      "Iter14, Test Accuracy = 0.9739, Train Accuracy = 0.98669094, Learning rate = 0.000487675\n",
      "Iter15, Test Accuracy = 0.9731, Train Accuracy = 0.98603636, Learning rate = 0.00046329122\n",
      "Iter16, Test Accuracy = 0.9753, Train Accuracy = 0.9881455, Learning rate = 0.00044012666\n",
      "Iter17, Test Accuracy = 0.9759, Train Accuracy = 0.9885273, Learning rate = 0.00041812033\n",
      "Iter18, Test Accuracy = 0.9763, Train Accuracy = 0.9885273, Learning rate = 0.00039721432\n",
      "Iter19, Test Accuracy = 0.9769, Train Accuracy = 0.9899455, Learning rate = 0.0003773536\n"
     ]
    }
   ],
   "source": [
    "mnist = input_data.read_data_sets(\"MNIST_data/\", one_hot=True)\n",
    "\n",
    "batch_size = 100\n",
    "n_batch = mnist.train.num_examples // batch_size\n",
    "\n",
    "x = tf.placeholder(\"float\", [None, 784])\n",
    "y = tf.placeholder(\"float\", [None, 10])\n",
    "keep_prob = tf.placeholder(\"float\")\n",
    "lr = tf.Variable(0.001, dtype=\"float\")\n",
    "\n",
    "# 创建神经层\n",
    "W1 = tf.Variable(tf.truncated_normal([784, 1000], stddev = 0.1))\n",
    "b1 = tf.Variable(tf.zeros([1000]) + 0.1)\n",
    "L1 = tf.nn.tanh(tf.matmul(x, W1) + b1)\n",
    "L1_drop = tf.nn.dropout(L1, keep_prob)\n",
    "\n",
    "W3 = tf.Variable(tf.truncated_normal([1000, 10], stddev = 0.1))\n",
    "b3 = tf.Variable(tf.zeros([10]) + 0.1)\n",
    "prediction = tf.nn.softmax(tf.matmul(L1_drop, W3) + b3)\n",
    "\n",
    "loss = tf.reduce_mean(tf.nn.softmax_cross_entropy_with_logits(labels=y, logits=prediction))\n",
    "train_step = tf.train.AdamOptimizer(lr).minimize(loss)\n",
    "\n",
    "init = tf.global_variables_initializer()\n",
    "\n",
    "correct_prediction = tf.equal(tf.argmax(y,1) , tf.argmax(prediction, 1))\n",
    "accuracy = tf.reduce_mean(tf.cast(correct_prediction, \"float\"))\n",
    "\n",
    "with tf.Session() as sess:\n",
    "    sess.run(init)\n",
    "    for epoch in range(20):\n",
    "        sess.run(tf.assign(lr, 0.001*(0.95**epoch)))\n",
    "        for each in range(n_batch):\n",
    "            batch_xs, batch_ys = mnist.train.next_batch(batch_size)\n",
    "            sess.run(train_step, feed_dict = {x: batch_xs, y:batch_ys, keep_prob:0.7})\n",
    "        \n",
    "        learning_rate = sess.run(lr)\n",
    "        test_acc = sess.run(accuracy, feed_dict={x: mnist.test.images, y: mnist.test.labels, keep_prob: 1.0})\n",
    "        train_acc = sess.run(accuracy, feed_dict={x: mnist.train.images, y: mnist.train.labels, keep_prob: 1.0})\n",
    "        print(\"Iter\" + str(epoch) + \", Test Accuracy = \" + str(test_acc) + \", Train Accuracy = \" + str(train_acc) + \", Learning rate = \" + str(learning_rate))\n",
    "        #print(\"Iter\" + str(epoch) + \", Test Accuracy = \" + str(test_acc))\n"
   ]
  },
  {
   "cell_type": "code",
   "execution_count": null,
   "metadata": {},
   "outputs": [],
   "source": []
  }
 ],
 "metadata": {
  "kernelspec": {
   "display_name": "Python [conda env:anaconda3]",
   "language": "python",
   "name": "conda-env-anaconda3-py"
  },
  "language_info": {
   "codemirror_mode": {
    "name": "ipython",
    "version": 3
   },
   "file_extension": ".py",
   "mimetype": "text/x-python",
   "name": "python",
   "nbconvert_exporter": "python",
   "pygments_lexer": "ipython3",
   "version": "3.6.5"
  }
 },
 "nbformat": 4,
 "nbformat_minor": 2
}
