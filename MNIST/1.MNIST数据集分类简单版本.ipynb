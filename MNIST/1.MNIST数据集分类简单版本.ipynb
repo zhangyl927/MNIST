{
 "cells": [
  {
   "cell_type": "code",
   "execution_count": 2,
   "metadata": {
    "scrolled": true
   },
   "outputs": [],
   "source": [
    "import tensorflow as tf\n",
    "from tensorflow.examples.tutorials.mnist import input_data"
   ]
  },
  {
   "cell_type": "code",
   "execution_count": 3,
   "metadata": {},
   "outputs": [
    {
     "name": "stdout",
     "output_type": "stream",
     "text": [
      "Extracting MNIST_data/train-images-idx3-ubyte.gz\n",
      "Extracting MNIST_data/train-labels-idx1-ubyte.gz\n",
      "Extracting MNIST_data/t10k-images-idx3-ubyte.gz\n",
      "Extracting MNIST_data/t10k-labels-idx1-ubyte.gz\n",
      "Iter0, Test Accuracy0.824\n",
      "Iter1, Test Accuracy0.8929\n",
      "Iter2, Test Accuracy0.9019\n",
      "Iter3, Test Accuracy0.9066\n",
      "Iter4, Test Accuracy0.9087\n",
      "Iter5, Test Accuracy0.9101\n",
      "Iter6, Test Accuracy0.9117\n",
      "Iter7, Test Accuracy0.9137\n",
      "Iter8, Test Accuracy0.9151\n",
      "Iter9, Test Accuracy0.9171\n",
      "Iter10, Test Accuracy0.9185\n",
      "Iter11, Test Accuracy0.918\n",
      "Iter12, Test Accuracy0.918\n",
      "Iter13, Test Accuracy0.918\n",
      "Iter14, Test Accuracy0.919\n",
      "Iter15, Test Accuracy0.9202\n",
      "Iter16, Test Accuracy0.921\n",
      "Iter17, Test Accuracy0.9213\n",
      "Iter18, Test Accuracy0.9212\n",
      "Iter19, Test Accuracy0.9211\n"
     ]
    }
   ],
   "source": [
    "mnist = input_data.read_data_sets(\"MNIST_data/\",one_hot=True)\n",
    "\n",
    "# 每个批次的大小\n",
    "batch_size = 100\n",
    "# 计算一共有多少个批次\n",
    "n_batch = mnist.train.num_examples // batch_size\n",
    "\n",
    "# 定义两个placeholder\n",
    "x = tf.placeholder(\"float\", [None, 784])\n",
    "y = tf.placeholder(\"float\", [None, 10])\n",
    "\n",
    "# 建立一个简单的神经网络\n",
    "W = tf.Variable(tf.zeros([784,10]))\n",
    "b = tf.Variable(tf.zeros([10]))\n",
    "prediction = tf.nn.softmax(tf.matmul(x,W) + b)\n",
    "\n",
    "# 代价函数\n",
    " # （1）使用平方的方法\n",
    "#loss = tf.reduce_mean(tf.square(y - prediction))     \n",
    " # （2）使用交叉熵的方法改进 #########################################################\n",
    "loss = tf.reduce_mean(tf.nn.softmax_cross_entropy_with_logits(labels=y, logits=prediction))       \n",
    "# 使用梯度下降法\n",
    "train_step = tf.train.GradientDescentOptimizer(0.2).minimize(loss)\n",
    "\n",
    "# 初始化变量\n",
    "init = tf.global_variables_initializer()\n",
    "\n",
    "# 结果存放在一个布尔型列表中\n",
    "correct_prediction = tf.equal(tf.argmax(prediction,1), tf.argmax(y,1))      # argmax 返回一维变量中最大值所在位置\n",
    "# 求准确率\n",
    "accuracy = tf.reduce_mean(tf.cast(correct_prediction, \"float\"))\n",
    "\n",
    "with tf.Session() as sess:\n",
    "    sess.run(init)\n",
    "    for epoch in range(20):\n",
    "        for batch in range(n_batch):\n",
    "            batch_xs,batch_ys = mnist.train.next_batch(batch_size)\n",
    "            sess.run(train_step,feed_dict = {x:batch_xs, y:batch_ys})\n",
    "            \n",
    "        acc = sess.run(accuracy, feed_dict={x: mnist.test.images, y: mnist.test.labels})\n",
    "        print(\"Iter\" + str(epoch) + \", Test Accuracy\" + str(acc))"
   ]
  },
  {
   "cell_type": "markdown",
   "metadata": {},
   "source": [
    "1.二次代价函数：\n",
    "Iter0, Test Accuracy0.8319\n",
    "Iter1, Test Accuracy0.8713\n",
    "Iter2, Test Accuracy0.8822\n",
    "Iter3, Test Accuracy0.8876\n",
    "Iter4, Test Accuracy0.8944\n",
    "Iter5, Test Accuracy0.8975\n",
    "Iter6, Test Accuracy0.9\n",
    "Iter7, Test Accuracy0.9022\n",
    "Iter8, Test Accuracy0.9028\n",
    "Iter9, Test Accuracy0.9055\n",
    "Iter10, Test Accuracy0.9065\n",
    "Iter11, Test Accuracy0.9073\n",
    "Iter12, Test Accuracy0.908\n",
    "Iter13, Test Accuracy0.9096\n",
    "Iter14, Test Accuracy0.9105\n",
    "Iter15, Test Accuracy0.9102\n",
    "Iter16, Test Accuracy0.912\n",
    "Iter17, Test Accuracy0.9128\n",
    "Iter18, Test Accuracy0.9134\n",
    "Iter19, Test Accuracy0.914\n",
    "\n",
    "2.交叉墒：\n",
    "Iter0, Test Accuracy0.8252\n",
    "Iter1, Test Accuracy0.8877\n",
    "Iter2, Test Accuracy0.9004\n",
    "Iter3, Test Accuracy0.9061\n",
    "Iter4, Test Accuracy0.9093\n",
    "Iter5, Test Accuracy0.9108\n",
    "Iter6, Test Accuracy0.9118\n",
    "Iter7, Test Accuracy0.914\n",
    "Iter8, Test Accuracy0.9148\n",
    "Iter9, Test Accuracy0.9161\n",
    "Iter10, Test Accuracy0.917\n",
    "Iter11, Test Accuracy0.9187\n",
    "Iter12, Test Accuracy0.9189\n",
    "Iter13, Test Accuracy0.9198\n",
    "Iter14, Test Accuracy0.9198\n",
    "Iter15, Test Accuracy0.919\n",
    "Iter16, Test Accuracy0.9199\n",
    "Iter17, Test Accuracy0.9201\n",
    "Iter18, Test Accuracy0.9215\n",
    "Iter19, Test Accuracy0.9204"
   ]
  }
 ],
 "metadata": {
  "kernelspec": {
   "display_name": "Python [conda env:anaconda3]",
   "language": "python",
   "name": "conda-env-anaconda3-py"
  },
  "language_info": {
   "codemirror_mode": {
    "name": "ipython",
    "version": 3
   },
   "file_extension": ".py",
   "mimetype": "text/x-python",
   "name": "python",
   "nbconvert_exporter": "python",
   "pygments_lexer": "ipython3",
   "version": "3.6.5"
  }
 },
 "nbformat": 4,
 "nbformat_minor": 2
}
