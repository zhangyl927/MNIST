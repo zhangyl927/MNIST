{
 "cells": [
  {
   "cell_type": "code",
   "execution_count": 1,
   "metadata": {},
   "outputs": [],
   "source": [
    "import tensorflow as tf\n",
    "from tensorflow.examples.tutorials.mnist import input_data"
   ]
  },
  {
   "cell_type": "code",
   "execution_count": 2,
   "metadata": {},
   "outputs": [
    {
     "name": "stdout",
     "output_type": "stream",
     "text": [
      "Extracting MNIST_data/train-images-idx3-ubyte.gz\n",
      "Extracting MNIST_data/train-labels-idx1-ubyte.gz\n",
      "Extracting MNIST_data/t10k-images-idx3-ubyte.gz\n",
      "Extracting MNIST_data/t10k-labels-idx1-ubyte.gz\n",
      "Iter0, Test Accuracy0.9451,Train Accuracy0.9514，Learning Rate= 0.001\n",
      "Iter1, Test Accuracy0.9652,Train Accuracy0.97016364，Learning Rate= 0.00095\n",
      "Iter2, Test Accuracy0.9673,Train Accuracy0.976，Learning Rate= 0.0009025\n",
      "Iter3, Test Accuracy0.9694,Train Accuracy0.9798727，Learning Rate= 0.000857375\n",
      "Iter4, Test Accuracy0.9729,Train Accuracy0.98514545，Learning Rate= 0.00081450626\n",
      "Iter5, Test Accuracy0.9724,Train Accuracy0.9865818，Learning Rate= 0.0007737809\n",
      "Iter6, Test Accuracy0.9756,Train Accuracy0.9894，Learning Rate= 0.0007350919\n",
      "Iter7, Test Accuracy0.9758,Train Accuracy0.9910182，Learning Rate= 0.0006983373\n",
      "Iter8, Test Accuracy0.9776,Train Accuracy0.99167275，Learning Rate= 0.0006634204\n",
      "Iter9, Test Accuracy0.9765,Train Accuracy0.99234545，Learning Rate= 0.0006302494\n",
      "Iter10, Test Accuracy0.9781,Train Accuracy0.9932182，Learning Rate= 0.0005987369\n",
      "Iter11, Test Accuracy0.9781,Train Accuracy0.99372727，Learning Rate= 0.0005688001\n",
      "Iter12, Test Accuracy0.9786,Train Accuracy0.9942909，Learning Rate= 0.0005403601\n",
      "Iter13, Test Accuracy0.9799,Train Accuracy0.9947091，Learning Rate= 0.0005133421\n",
      "Iter14, Test Accuracy0.9817,Train Accuracy0.99521816，Learning Rate= 0.000487675\n",
      "Iter15, Test Accuracy0.9807,Train Accuracy0.9953091，Learning Rate= 0.00046329122\n",
      "Iter16, Test Accuracy0.9808,Train Accuracy0.99554545，Learning Rate= 0.00044012666\n",
      "Iter17, Test Accuracy0.9789,Train Accuracy0.9947091，Learning Rate= 0.00041812033\n",
      "Iter18, Test Accuracy0.9792,Train Accuracy0.99552727，Learning Rate= 0.00039721432\n",
      "Iter19, Test Accuracy0.9814,Train Accuracy0.99612725，Learning Rate= 0.0003773536\n",
      "Iter20, Test Accuracy0.9813,Train Accuracy0.9961636，Learning Rate= 0.00035848594\n",
      "Iter21, Test Accuracy0.9787,Train Accuracy0.99603635，Learning Rate= 0.00034056162\n",
      "Iter22, Test Accuracy0.9811,Train Accuracy0.9963273，Learning Rate= 0.00032353355\n",
      "Iter23, Test Accuracy0.9809,Train Accuracy0.9964182，Learning Rate= 0.00030735688\n",
      "Iter24, Test Accuracy0.9813,Train Accuracy0.99654543，Learning Rate= 0.000291989\n",
      "Iter25, Test Accuracy0.9786,Train Accuracy0.9961636，Learning Rate= 0.00027738957\n",
      "Iter26, Test Accuracy0.9813,Train Accuracy0.99665457，Learning Rate= 0.0002635201\n",
      "Iter27, Test Accuracy0.9816,Train Accuracy0.9967818，Learning Rate= 0.00025034408\n",
      "Iter28, Test Accuracy0.9812,Train Accuracy0.9967273，Learning Rate= 0.00023782688\n",
      "Iter29, Test Accuracy0.9814,Train Accuracy0.9968182，Learning Rate= 0.00022593554\n"
     ]
    }
   ],
   "source": [
    "mnist = input_data.read_data_sets(\"MNIST_data/\", one_hot=True)\n",
    "\n",
    "# 每个批次的大小\n",
    "batch_size = 100\n",
    "# 计算一共有多少个批次\n",
    "n_batch = mnist.train.num_examples // batch_size\n",
    "\n",
    "# 定义两个placeholder\n",
    "x = tf.placeholder(\"float\", [None, 784])\n",
    "y = tf.placeholder(\"float\", [None, 10])\n",
    "keep_prob = tf.placeholder(\"float\")\n",
    "# 学习率\n",
    "lr = tf.Variable(0.001, dtype=\"float\")\n",
    "\n",
    "# 建立一个简单的神经网络\n",
    "W1 = tf.Variable(tf.truncated_normal([784, 500], stddev=0.1))\n",
    "b1 = tf.Variable(tf.zeros([500])+0.1)\n",
    "L1 = tf.nn.tanh(tf.matmul(x, W1)+b1)\n",
    "L1_drop = tf.nn.dropout(L1, keep_prob)\n",
    "\n",
    "W2 = tf.Variable(tf.truncated_normal([500, 300], stddev=0.1))\n",
    "b2 = tf.Variable(tf.zeros([300])+0.1)\n",
    "L2 = tf.nn.tanh(tf.matmul(L1_drop, W2)+b2)\n",
    "L2_drop = tf.nn.dropout(L2, keep_prob)\n",
    "\n",
    "W3 = tf.Variable(tf.truncated_normal([300, 10], stddev=0.1))\n",
    "b3 = tf.Variable(tf.zeros([10])+0.1)\n",
    "prediction = tf.nn.softmax(tf.matmul(L2_drop, W3) + b3)\n",
    "\n",
    "# 代价函数\n",
    "# （1）使用平方的方法\n",
    "# loss = tf.reduce_mean(tf.square(y - prediction))\n",
    "# （2）使用交叉熵的方法改进 #########################################################\n",
    "loss = tf.reduce_mean(tf.nn.softmax_cross_entropy_with_logits(labels=y, logits=prediction))\n",
    "# 使用Adam优化器\n",
    "train_step = tf.train.AdamOptimizer(lr).minimize(loss)\n",
    "\n",
    "# 初始化变量\n",
    "init = tf.global_variables_initializer()\n",
    "\n",
    "# 结果存放在一个布尔型列表中\n",
    "correct_prediction = tf.equal(tf.argmax(prediction, 1), tf.argmax(y, 1))  # argmax 返回一维变量中最大值所在位置\n",
    "# 求准确率\n",
    "accuracy = tf.reduce_mean(tf.cast(correct_prediction, \"float\"))\n",
    "\n",
    "with tf.Session() as sess:\n",
    "    sess.run(init)\n",
    "    for epoch in range(30):\n",
    "        sess.run(tf.assign(lr, 0.001 * (0.95 ** epoch)))\n",
    "        for batch in range(n_batch):\n",
    "            batch_xs, batch_ys = mnist.train.next_batch(batch_size)\n",
    "            sess.run(train_step, feed_dict={x: batch_xs, y: batch_ys, keep_prob: 1.0})\n",
    "        \n",
    "        learning_rate = sess.run(lr)\n",
    "        test_acc = sess.run(accuracy, feed_dict={x: mnist.test.images, y: mnist.test.labels, keep_prob: 1.0})\n",
    "        train_acc = sess.run(accuracy, feed_dict={x: mnist.train.images, y: mnist.train.labels, keep_prob: 1.0})\n",
    "        print(\"Iter\" + str(epoch) + \", Test Accuracy\" + str(test_acc) + \",Train Accuracy\" + str(train_acc)  + \"，Learning Rate= \" + str(learning_rate))"
   ]
  },
  {
   "cell_type": "code",
   "execution_count": null,
   "metadata": {},
   "outputs": [],
   "source": []
  }
 ],
 "metadata": {
  "kernelspec": {
   "display_name": "Python [conda env:anaconda3]",
   "language": "python",
   "name": "conda-env-anaconda3-py"
  },
  "language_info": {
   "codemirror_mode": {
    "name": "ipython",
    "version": 3
   },
   "file_extension": ".py",
   "mimetype": "text/x-python",
   "name": "python",
   "nbconvert_exporter": "python",
   "pygments_lexer": "ipython3",
   "version": "3.6.5"
  }
 },
 "nbformat": 4,
 "nbformat_minor": 2
}
